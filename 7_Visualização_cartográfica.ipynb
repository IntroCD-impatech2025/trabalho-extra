{
  "cells": [
    {
      "cell_type": "markdown",
      "metadata": {
        "id": "FXnP0pYKZ7Pr"
      },
      "source": [
        "## <font color=\"gray\">7.2</font> Marcas de Geoforma\n",
        "---"
      ]
    },
    {
      "cell_type": "markdown",
      "metadata": {
        "id": "EZYR6tC3Z7Pr"
      },
      "source": [
        "Para visualizar dados geográficos, o Altair fornece o tipo de marca `geoshape`. Para criar um mapa básico, podemos criar uma marca `geoshape` e passar nossos dados TopoJSON, que são então desembrulhados em recursos GeoJSON, um para cada país do mundo:\n"
      ]
    },
    {
      "cell_type": "code",
      "execution_count": null,
      "metadata": {
        "id": "VcvEclAFZ7Ps",
        "outputId": "e740c9f4-bc7b-4da2-f66c-bf9df9c34161"
      },
      "outputs": [
        {
          "data": {
            "text/html": [
              "\n",
              "<div id=\"altair-viz-ded4d19b935a4b7187f34bfa41e0981a\"></div>\n",
              "<script type=\"text/javascript\">\n",
              "  (function(spec, embedOpt){\n",
              "    let outputDiv = document.currentScript.previousElementSibling;\n",
              "    if (outputDiv.id !== \"altair-viz-ded4d19b935a4b7187f34bfa41e0981a\") {\n",
              "      outputDiv = document.getElementById(\"altair-viz-ded4d19b935a4b7187f34bfa41e0981a\");\n",
              "    }\n",
              "    const paths = {\n",
              "      \"vega\": \"https://cdn.jsdelivr.net/npm//vega@5?noext\",\n",
              "      \"vega-lib\": \"https://cdn.jsdelivr.net/npm//vega-lib?noext\",\n",
              "      \"vega-lite\": \"https://cdn.jsdelivr.net/npm//vega-lite@4.8.1?noext\",\n",
              "      \"vega-embed\": \"https://cdn.jsdelivr.net/npm//vega-embed@6?noext\",\n",
              "    };\n",
              "\n",
              "    function loadScript(lib) {\n",
              "      return new Promise(function(resolve, reject) {\n",
              "        var s = document.createElement('script');\n",
              "        s.src = paths[lib];\n",
              "        s.async = true;\n",
              "        s.onload = () => resolve(paths[lib]);\n",
              "        s.onerror = () => reject(`Error loading script: ${paths[lib]}`);\n",
              "        document.getElementsByTagName(\"head\")[0].appendChild(s);\n",
              "      });\n",
              "    }\n",
              "\n",
              "    function showError(err) {\n",
              "      outputDiv.innerHTML = `<div class=\"error\" style=\"color:red;\">${err}</div>`;\n",
              "      throw err;\n",
              "    }\n",
              "\n",
              "    function displayChart(vegaEmbed) {\n",
              "      vegaEmbed(outputDiv, spec, embedOpt)\n",
              "        .catch(err => showError(`Javascript Error: ${err.message}<br>This usually means there's a typo in your chart specification. See the javascript console for the full traceback.`));\n",
              "    }\n",
              "\n",
              "    if(typeof define === \"function\" && define.amd) {\n",
              "      requirejs.config({paths});\n",
              "      require([\"vega-embed\"], displayChart, err => showError(`Error loading script: ${err.message}`));\n",
              "    } else if (typeof vegaEmbed === \"function\") {\n",
              "      displayChart(vegaEmbed);\n",
              "    } else {\n",
              "      loadScript(\"vega\")\n",
              "        .then(() => loadScript(\"vega-lite\"))\n",
              "        .then(() => loadScript(\"vega-embed\"))\n",
              "        .catch(showError)\n",
              "        .then(() => displayChart(vegaEmbed));\n",
              "    }\n",
              "  })({\"config\": {\"view\": {\"continuousWidth\": 400, \"continuousHeight\": 300}}, \"data\": {\"url\": \"https://vega.github.io/vega-datasets/data/world-110m.json\", \"format\": {\"feature\": \"countries\", \"type\": \"topojson\"}}, \"mark\": \"geoshape\", \"$schema\": \"https://vega.github.io/schema/vega-lite/v4.8.1.json\"}, {\"mode\": \"vega-lite\"});\n",
              "</script>"
            ],
            "text/plain": [
              "alt.Chart(...)"
            ]
          },
          "execution_count": 7,
          "metadata": {},
          "output_type": "execute_result"
        }
      ],
      "source": [
        "alt.Chart(alt.topo_feature(world, 'countries')).mark_geoshape()"
      ]
    },
    {
      "cell_type": "markdown",
      "metadata": {
        "id": "qMC7wFp4Z7Ps"
      },
      "source": [
        "No exemplo acima, o Altair aplica uma cor azul padrão e usa uma projeção de mapa padrão (`mercator`). Podemos personalizar as cores e as larguras das bordas usando propriedades padrão de marca. Usando o método `project`, também podemos adicionar nossa própria projeção de mapa:\n"
      ]
    },
    {
      "cell_type": "code",
      "execution_count": null,
      "metadata": {
        "id": "mkANrimnZ7Ps",
        "outputId": "1be55882-af8f-4112-9459-a37234d58c79"
      },
      "outputs": [
        {
          "data": {
            "text/html": [
              "\n",
              "<div id=\"altair-viz-7f5ee9d649f146379b5c5fb0140fedc5\"></div>\n",
              "<script type=\"text/javascript\">\n",
              "  (function(spec, embedOpt){\n",
              "    let outputDiv = document.currentScript.previousElementSibling;\n",
              "    if (outputDiv.id !== \"altair-viz-7f5ee9d649f146379b5c5fb0140fedc5\") {\n",
              "      outputDiv = document.getElementById(\"altair-viz-7f5ee9d649f146379b5c5fb0140fedc5\");\n",
              "    }\n",
              "    const paths = {\n",
              "      \"vega\": \"https://cdn.jsdelivr.net/npm//vega@5?noext\",\n",
              "      \"vega-lib\": \"https://cdn.jsdelivr.net/npm//vega-lib?noext\",\n",
              "      \"vega-lite\": \"https://cdn.jsdelivr.net/npm//vega-lite@4.8.1?noext\",\n",
              "      \"vega-embed\": \"https://cdn.jsdelivr.net/npm//vega-embed@6?noext\",\n",
              "    };\n",
              "\n",
              "    function loadScript(lib) {\n",
              "      return new Promise(function(resolve, reject) {\n",
              "        var s = document.createElement('script');\n",
              "        s.src = paths[lib];\n",
              "        s.async = true;\n",
              "        s.onload = () => resolve(paths[lib]);\n",
              "        s.onerror = () => reject(`Error loading script: ${paths[lib]}`);\n",
              "        document.getElementsByTagName(\"head\")[0].appendChild(s);\n",
              "      });\n",
              "    }\n",
              "\n",
              "    function showError(err) {\n",
              "      outputDiv.innerHTML = `<div class=\"error\" style=\"color:red;\">${err}</div>`;\n",
              "      throw err;\n",
              "    }\n",
              "\n",
              "    function displayChart(vegaEmbed) {\n",
              "      vegaEmbed(outputDiv, spec, embedOpt)\n",
              "        .catch(err => showError(`Javascript Error: ${err.message}<br>This usually means there's a typo in your chart specification. See the javascript console for the full traceback.`));\n",
              "    }\n",
              "\n",
              "    if(typeof define === \"function\" && define.amd) {\n",
              "      requirejs.config({paths});\n",
              "      require([\"vega-embed\"], displayChart, err => showError(`Error loading script: ${err.message}`));\n",
              "    } else if (typeof vegaEmbed === \"function\") {\n",
              "      displayChart(vegaEmbed);\n",
              "    } else {\n",
              "      loadScript(\"vega\")\n",
              "        .then(() => loadScript(\"vega-lite\"))\n",
              "        .then(() => loadScript(\"vega-embed\"))\n",
              "        .catch(showError)\n",
              "        .then(() => displayChart(vegaEmbed));\n",
              "    }\n",
              "  })({\"config\": {\"view\": {\"continuousWidth\": 400, \"continuousHeight\": 300}}, \"data\": {\"url\": \"https://vega.github.io/vega-datasets/data/world-110m.json\", \"format\": {\"feature\": \"countries\", \"type\": \"topojson\"}}, \"mark\": {\"type\": \"geoshape\", \"fill\": \"#2a1d0c\", \"stroke\": \"#706545\", \"strokeWidth\": 0.5}, \"projection\": {\"type\": \"mercator\"}, \"$schema\": \"https://vega.github.io/schema/vega-lite/v4.8.1.json\"}, {\"mode\": \"vega-lite\"});\n",
              "</script>"
            ],
            "text/plain": [
              "alt.Chart(...)"
            ]
          },
          "execution_count": 8,
          "metadata": {},
          "output_type": "execute_result"
        }
      ],
      "source": [
        "alt.Chart(alt.topo_feature(world, 'countries')).mark_geoshape(\n",
        "    fill='#2a1d0c', stroke='#706545', strokeWidth=0.5\n",
        ").project(\n",
        "    type='mercator'\n",
        ")"
      ]
    },
    {
      "cell_type": "markdown",
      "metadata": {
        "id": "xDLP2etFZ7Ps"
      },
      "source": [
        "Por padrão, o Altair ajusta automaticamente a projeção para que todos os dados caibam dentro da largura e altura do gráfico. Também podemos especificar parâmetros de projeção, como `scale` (nível de zoom) e `translate` (panorama), para personalizar as configurações da projeção. Aqui, ajustamos os parâmetros `scale` e `translate` para focar na Europa:\n"
      ]
    },
    {
      "cell_type": "code",
      "execution_count": null,
      "metadata": {
        "id": "SIHgKx6QZ7Ps",
        "outputId": "61cf6981-1f37-4248-8f4f-737837ecc1e4"
      },
      "outputs": [
        {
          "data": {
            "text/html": [
              "\n",
              "<div id=\"altair-viz-91718abd2285427c868a1d36c8906462\"></div>\n",
              "<script type=\"text/javascript\">\n",
              "  (function(spec, embedOpt){\n",
              "    let outputDiv = document.currentScript.previousElementSibling;\n",
              "    if (outputDiv.id !== \"altair-viz-91718abd2285427c868a1d36c8906462\") {\n",
              "      outputDiv = document.getElementById(\"altair-viz-91718abd2285427c868a1d36c8906462\");\n",
              "    }\n",
              "    const paths = {\n",
              "      \"vega\": \"https://cdn.jsdelivr.net/npm//vega@5?noext\",\n",
              "      \"vega-lib\": \"https://cdn.jsdelivr.net/npm//vega-lib?noext\",\n",
              "      \"vega-lite\": \"https://cdn.jsdelivr.net/npm//vega-lite@4.8.1?noext\",\n",
              "      \"vega-embed\": \"https://cdn.jsdelivr.net/npm//vega-embed@6?noext\",\n",
              "    };\n",
              "\n",
              "    function loadScript(lib) {\n",
              "      return new Promise(function(resolve, reject) {\n",
              "        var s = document.createElement('script');\n",
              "        s.src = paths[lib];\n",
              "        s.async = true;\n",
              "        s.onload = () => resolve(paths[lib]);\n",
              "        s.onerror = () => reject(`Error loading script: ${paths[lib]}`);\n",
              "        document.getElementsByTagName(\"head\")[0].appendChild(s);\n",
              "      });\n",
              "    }\n",
              "\n",
              "    function showError(err) {\n",
              "      outputDiv.innerHTML = `<div class=\"error\" style=\"color:red;\">${err}</div>`;\n",
              "      throw err;\n",
              "    }\n",
              "\n",
              "    function displayChart(vegaEmbed) {\n",
              "      vegaEmbed(outputDiv, spec, embedOpt)\n",
              "        .catch(err => showError(`Javascript Error: ${err.message}<br>This usually means there's a typo in your chart specification. See the javascript console for the full traceback.`));\n",
              "    }\n",
              "\n",
              "    if(typeof define === \"function\" && define.amd) {\n",
              "      requirejs.config({paths});\n",
              "      require([\"vega-embed\"], displayChart, err => showError(`Error loading script: ${err.message}`));\n",
              "    } else if (typeof vegaEmbed === \"function\") {\n",
              "      displayChart(vegaEmbed);\n",
              "    } else {\n",
              "      loadScript(\"vega\")\n",
              "        .then(() => loadScript(\"vega-lite\"))\n",
              "        .then(() => loadScript(\"vega-embed\"))\n",
              "        .catch(showError)\n",
              "        .then(() => displayChart(vegaEmbed));\n",
              "    }\n",
              "  })({\"config\": {\"view\": {\"continuousWidth\": 400, \"continuousHeight\": 300}}, \"data\": {\"url\": \"https://vega.github.io/vega-datasets/data/world-110m.json\", \"format\": {\"feature\": \"countries\", \"type\": \"topojson\"}}, \"mark\": {\"type\": \"geoshape\", \"fill\": \"#2a1d0c\", \"stroke\": \"#706545\", \"strokeWidth\": 0.5}, \"projection\": {\"scale\": 400, \"translate\": [100, 550], \"type\": \"mercator\"}, \"$schema\": \"https://vega.github.io/schema/vega-lite/v4.8.1.json\"}, {\"mode\": \"vega-lite\"});\n",
              "</script>"
            ],
            "text/plain": [
              "alt.Chart(...)"
            ]
          },
          "execution_count": 9,
          "metadata": {},
          "output_type": "execute_result"
        }
      ],
      "source": [
        "alt.Chart(alt.topo_feature(world, 'countries')).mark_geoshape(\n",
        "    fill='#2a1d0c', stroke='#706545', strokeWidth=0.5\n",
        ").project(\n",
        "    type='mercator', scale=400, translate=[100, 550]\n",
        ")"
      ]
    },
    {
      "cell_type": "markdown",
      "metadata": {
        "id": "hQMJi3mNZ7Pt"
      },
      "source": [
        "_Observe como a resolução de 110m dos dados se torna aparente nesse nível de escala. Para ver linhas de costa e fronteiras mais detalhadas, precisamos de um arquivo de entrada com geometrias mais detalhadas. Ajuste os parâmetros `scale` e `translate` para focar o mapa em outras regiões!_\n"
      ]
    },
    {
      "cell_type": "markdown",
      "metadata": {
        "id": "RaPynWVhZ7Pt"
      },
      "source": [
        "Até agora, nosso mapa mostra apenas países. Usando o operador `layer`, podemos combinar múltiplos elementos do mapa. O Altair inclui _geradores de dados_ que podemos usar para criar dados para camadas adicionais do mapa:\n",
        "\n",
        "- O gerador de esfera (`{'sphere': True}`) fornece uma representação GeoJSON da esfera completa da Terra. Podemos criar uma marca `geoshape` adicional que preenche a forma da Terra como uma camada de fundo.\n",
        "- O gerador de graticule (`{'graticule': ...}`) cria um recurso GeoJSON representando um _graticule_: uma grade formada por linhas de latitude e longitude. O graticule padrão tem meridianos e paralelos a cada 10° entre ±80° de latitude. Para as regiões polares, há meridianos a cada 90°. Essas configurações podem ser personalizadas usando as propriedades `stepMinor` e `stepMajor`.\n",
        "\n",
        "Vamos sobrepor as marcas de esfera, graticule e país em uma especificação de mapa reutilizável:\n"
      ]
    },
    {
      "cell_type": "code",
      "execution_count": null,
      "metadata": {
        "id": "6XHXx_kPZ7Pt"
      },
      "outputs": [],
      "source": [
        "map = alt.layer(\n",
        "    # use a esfera da Terra como camada base\n",
        "    alt.Chart({'sphere': True}).mark_geoshape(\n",
        "        fill='#e6f3ff'\n",
        "    ),\n",
        "    # adicione um graticule para as linhas de referência geográficas\n",
        "    alt.Chart({'graticule': True}).mark_geoshape(\n",
        "        stroke='#ffffff', strokeWidth=1\n",
        "    ),\n",
        "    # e depois os países do mundo\n",
        "    alt.Chart(alt.topo_feature(world, 'countries')).mark_geoshape(\n",
        "        fill='#2a1d0c', stroke='#706545', strokeWidth=0.5\n",
        "    )\n",
        ").properties(\n",
        "    width=600,\n",
        "    height=400\n",
        ")\n"
      ]
    },
    {
      "cell_type": "markdown",
      "metadata": {
        "id": "eRfakjIfZ7Pt"
      },
      "source": [
        "Podemos estender o mapa com a projeção desejada e desenhar o resultado. Aqui aplicamos uma [projeção Natural Earth](https://en.wikipedia.org/wiki/Natural_Earth_projection). A camada _sphere_ fornece o fundo azul claro; a camada _graticule_ fornece as linhas de referência geográficas brancas.\n"
      ]
    },
    {
      "cell_type": "code",
      "execution_count": null,
      "metadata": {
        "id": "4uHh-dtsZ7Pt",
        "outputId": "ffe5cf2d-390c-4f80-846b-4b49a837a51d"
      },
      "outputs": [
        {
          "data": {
            "text/html": [
              "\n",
              "<div id=\"altair-viz-a1af16eb42d9496f991ca8d2b7926e27\"></div>\n",
              "<script type=\"text/javascript\">\n",
              "  (function(spec, embedOpt){\n",
              "    let outputDiv = document.currentScript.previousElementSibling;\n",
              "    if (outputDiv.id !== \"altair-viz-a1af16eb42d9496f991ca8d2b7926e27\") {\n",
              "      outputDiv = document.getElementById(\"altair-viz-a1af16eb42d9496f991ca8d2b7926e27\");\n",
              "    }\n",
              "    const paths = {\n",
              "      \"vega\": \"https://cdn.jsdelivr.net/npm//vega@5?noext\",\n",
              "      \"vega-lib\": \"https://cdn.jsdelivr.net/npm//vega-lib?noext\",\n",
              "      \"vega-lite\": \"https://cdn.jsdelivr.net/npm//vega-lite@4.8.1?noext\",\n",
              "      \"vega-embed\": \"https://cdn.jsdelivr.net/npm//vega-embed@6?noext\",\n",
              "    };\n",
              "\n",
              "    function loadScript(lib) {\n",
              "      return new Promise(function(resolve, reject) {\n",
              "        var s = document.createElement('script');\n",
              "        s.src = paths[lib];\n",
              "        s.async = true;\n",
              "        s.onload = () => resolve(paths[lib]);\n",
              "        s.onerror = () => reject(`Error loading script: ${paths[lib]}`);\n",
              "        document.getElementsByTagName(\"head\")[0].appendChild(s);\n",
              "      });\n",
              "    }\n",
              "\n",
              "    function showError(err) {\n",
              "      outputDiv.innerHTML = `<div class=\"error\" style=\"color:red;\">${err}</div>`;\n",
              "      throw err;\n",
              "    }\n",
              "\n",
              "    function displayChart(vegaEmbed) {\n",
              "      vegaEmbed(outputDiv, spec, embedOpt)\n",
              "        .catch(err => showError(`Javascript Error: ${err.message}<br>This usually means there's a typo in your chart specification. See the javascript console for the full traceback.`));\n",
              "    }\n",
              "\n",
              "    if(typeof define === \"function\" && define.amd) {\n",
              "      requirejs.config({paths});\n",
              "      require([\"vega-embed\"], displayChart, err => showError(`Error loading script: ${err.message}`));\n",
              "    } else if (typeof vegaEmbed === \"function\") {\n",
              "      displayChart(vegaEmbed);\n",
              "    } else {\n",
              "      loadScript(\"vega\")\n",
              "        .then(() => loadScript(\"vega-lite\"))\n",
              "        .then(() => loadScript(\"vega-embed\"))\n",
              "        .catch(showError)\n",
              "        .then(() => displayChart(vegaEmbed));\n",
              "    }\n",
              "  })({\"config\": {\"view\": {\"continuousWidth\": 400, \"continuousHeight\": 300, \"stroke\": null}}, \"layer\": [{\"data\": {\"sphere\": true}, \"mark\": {\"type\": \"geoshape\", \"fill\": \"#e6f3ff\"}}, {\"data\": {\"graticule\": true}, \"mark\": {\"type\": \"geoshape\", \"stroke\": \"#ffffff\", \"strokeWidth\": 1}}, {\"data\": {\"url\": \"https://vega.github.io/vega-datasets/data/world-110m.json\", \"format\": {\"feature\": \"countries\", \"type\": \"topojson\"}}, \"mark\": {\"type\": \"geoshape\", \"fill\": \"#2a1d0c\", \"stroke\": \"#706545\", \"strokeWidth\": 0.5}}], \"height\": 400, \"projection\": {\"scale\": 110, \"translate\": [300, 200], \"type\": \"naturalEarth1\"}, \"width\": 600, \"$schema\": \"https://vega.github.io/schema/vega-lite/v4.8.1.json\"}, {\"mode\": \"vega-lite\"});\n",
              "</script>"
            ],
            "text/plain": [
              "alt.LayerChart(...)"
            ]
          },
          "execution_count": 11,
          "metadata": {},
          "output_type": "execute_result"
        }
      ],
      "source": [
        "map.project(\n",
        "    type='naturalEarth1', scale=110, translate=[300, 200]\n",
        ").configure_view(stroke=None)"
      ]
    },
    {
      "cell_type": "markdown",
      "metadata": {},
      "source": [
        "<font color=\"gray\">7.4</font> Mapas de Símbolos\n",
        "---"
      ]
    },
    {
      "cell_type": "markdown",
      "metadata": {},
      "source": [
        "Agora, vamos combinar um mapa base com os dados visualizados como camadas diferentes. Examinaremos o networking dos voôs comerciais nos Estados Unidos, considerando tanto os aeroportos como as rotas dos voôs. Para fazermos isso, precisaremos de três conjuntos de dados diferentes. Para nosso mapa base, usaremos um arquivo do tipo TopoJSON para os Estados Unidos numa resolução de 10m, contendo dados para estados (`states`) e municípios (`counties`):"
      ]
    },
    {
      "cell_type": "code",
      "execution_count": null,
      "metadata": {},
      "outputs": [],
      "source": [
        "usa = data.us_10m.url\n",
        "usa"
      ]
    },
    {
      "cell_type": "markdown",
      "metadata": {},
      "source": [
        "Para os aeroportos, vmos usar a base de dados com os campos das coordenadas de `latitude` e `longitude` de cada aeroporto, bem como o código `iata` do aeroporto — por exemplo, `SEA` para o [Aeroporto Internacional de Seattle-Tacoma](https://pt.wikipedia.org/wiki/Aeroporto_Internacional_de_Seattle-Tacoma)."
      ]
    },
    {
      "cell_type": "code",
      "execution_count": null,
      "metadata": {},
      "outputs": [],
      "source": [
        "airports = data.airports.url\n",
        "airports"
      ]
    },
    {
      "cell_type": "markdown",
      "metadata": {},
      "source": [
        "Finalmente, vamos usar uma base de dados para as rotas dos voôs, que contem a origem e destino de cada voô (demarcados pelos campos `origin` e `destination`, repectivamente) com os códigos IATA do aeroporto correspondente:"
      ]
    },
    {
      "cell_type": "code",
      "execution_count": null,
      "metadata": {},
      "outputs": [],
      "source": [
        "flights = data.flights_airport.url\n",
        "flights"
      ]
    },
    {
      "cell_type": "markdown",
      "metadata": {},
      "source": [
        "Vamos começar criando uma mapa base usando a projeção `albersUsa`, depois adicionando uma camada que plota marcas de círculo para cada aeroporto:"
      ]
    },
    {
      "cell_type": "code",
      "execution_count": null,
      "metadata": {},
      "outputs": [],
      "source": [
        "alt.layer(\n",
        "    alt.Chart(alt.topo_feature(usa, 'states')).mark_geoshape(\n",
        "        fill='#ddd', stroke='#fff', strokeWidth=1\n",
        "    ),\n",
        "    alt.Chart(airports).mark_circle(size=9).encode(\n",
        "        latitude='latitude:Q',\n",
        "        longitude='longitude:Q',\n",
        "        tooltip='iata:N'\n",
        "    )\n",
        ").project(\n",
        "    type='albersUsa'\n",
        ").properties(\n",
        "    width=900,\n",
        "    height=500\n",
        ").configure_view(\n",
        "    stroke=None\n",
        ")"
      ]
    },
    {
      "cell_type": "markdown",
      "metadata": {},
      "source": [
        "São muitos aeroportos! Obviamente, nem todos eles são os grandes centros de fluxo.\n",
        "\n",
        "Semelhante ao nosso conjunto de dados de códigos postais, nossos dados dos aeroportos incluem pontos que ficam fora da parte continental dos Estados Unido. Então, vemos novamente pontos no canto superior esquerdo. Podemos querer filtrar esses pontos, mas para isso, primeiro precisaremos saber mais sobre a natureza eles.\n",
        "\n",
        "*Atualize a projeção do mapa acima para *`albers`* — evitando o comportamento idiossincrático do *`albersUsa`* — para que as localizações reais desses pontos adicionais sejam reveladas!*\n",
        "\n",
        "Agora, em vez de mostrarmos todos os aeroportos de forma indiferente, vamos identificar os principais centros das rotas considerando o número total de rotas que se originam em cada aeroporto. Usaremos o conjunto de dados `routes` como nossa fonte de dados primária: ele contém uma lista de rotas de vôo que podemos combinar para contar o número de rotas para cada aeroporto de origem (no campo `origin`).\n",
        "\n",
        "No entanto, o conjunto de dados `routes` não inclui as localizações dos aeroportos! Para conectarmos os dados do `routes` com as localizações, precisamos de um novo tipo de transformação de dados: o `lookup`. A transformação `lookup` pega um valor e um campo em um conjunto de dados primário e o usa como uma chave para procurar informações relacionadas em outra tabela. Neste caso, queremos comparar o código do aeroporto de origem em nosso conjunto de dados `routes` com o campo `iata` do conjunto de dados `airports` e, em seguida, extrair os campos de `latitude` e `longitude` correspondentes."
      ]
    },
    {
      "cell_type": "code",
      "execution_count": null,
      "metadata": {},
      "outputs": [],
      "source": [
        "alt.layer(\n",
        "    alt.Chart(alt.topo_feature(usa, 'states')).mark_geoshape(\n",
        "        fill='#ddd', stroke='#fff', strokeWidth=1\n",
        "    ),\n",
        "    alt.Chart(flights).mark_circle().transform_aggregate(\n",
        "        groupby=['origin'],\n",
        "        routes='count()'\n",
        "    ).transform_lookup(\n",
        "        lookup='origin',\n",
        "        from_=alt.LookupData(data=airports, key='iata',\n",
        "                             fields=['state', 'latitude', 'longitude'])\n",
        "    ).transform_filter(\n",
        "        'datum.state !== \"PR\" && datum.state !== \"VI\"'\n",
        "    ).encode(\n",
        "        latitude='latitude:Q',\n",
        "        longitude='longitude:Q',\n",
        "        tooltip=['origin:N', 'routes:Q'],\n",
        "        size=alt.Size('routes:Q', scale=alt.Scale(range=[0, 1000]), legend=None),\n",
        "        order=alt.Order('routes:Q', sort='descending')\n",
        "    )\n",
        ").project(\n",
        "    type='albersUsa'\n",
        ").properties(\n",
        "    width=900,\n",
        "    height=500\n",
        ").configure_view(\n",
        "    stroke=None\n",
        ")"
      ]
    },
    {
      "cell_type": "markdown",
      "metadata": {},
      "source": [
        "*Qual aeroporto dos Estados Unidos tem o maior número de rotas saindo dele?*\n",
        "\n",
        "Agora que podemos ver os aeroports, gostaríamos de interagir melhor com eles entendendo a estrutura de network do trafégo aéreo. Podemos adicionar a marca gráfica `rule` para representar rotas saindo dos aeroportos de origem até os aeroportos de destino, o que necessita de duas transformações do `lookup` e recuperar as coordenadas para cada ponto desse segmento de reta. Além disso, podemos usar a seleção `single` para filtrar essas rotas tal que apenas as rotas tendo a origem no aeroporto atualmente selecionado seja mostrado.\n",
        "\n",
        "*Começando do mapa estático acima, você poderia implementar uma versão interativa? Seja livre para pular o código abaixo para se engajar com o mapa interativo primeiro, e pense sobre como você mesmo faria!*"
      ]
    },
    {
      "cell_type": "code",
      "execution_count": null,
      "metadata": {},
      "outputs": [],
      "source": [
        "# interactive selection for origin airport\n",
        "# select nearest airport to mouse cursor\n",
        "origin = alt.selection_single(\n",
        "    on='mouseover', nearest=True,\n",
        "    fields=['origin'], empty='none'\n",
        ")\n",
        "\n",
        "# shared data reference for lookup transforms\n",
        "foreign = alt.LookupData(data=airports, key='iata',\n",
        "                         fields=['latitude', 'longitude'])\n",
        "\n",
        "alt.layer(\n",
        "    # base map of the United States\n",
        "    alt.Chart(alt.topo_feature(usa, 'states')).mark_geoshape(\n",
        "        fill='#ddd', stroke='#fff', strokeWidth=1\n",
        "    ),\n",
        "    # route lines from selected origin airport to destination airports\n",
        "    alt.Chart(flights).mark_rule(\n",
        "        color='#000', opacity=0.35\n",
        "    ).transform_filter(\n",
        "        origin # filter to selected origin only\n",
        "    ).transform_lookup(\n",
        "        lookup='origin', from_=foreign # origin lat/lon\n",
        "    ).transform_lookup(\n",
        "        lookup='destination', from_=foreign, as_=['lat2', 'lon2'] # dest lat/lon\n",
        "    ).encode(\n",
        "        latitude='latitude:Q',\n",
        "        longitude='longitude:Q',\n",
        "        latitude2='lat2',\n",
        "        longitude2='lon2',\n",
        "    ),\n",
        "    # size airports by number of outgoing routes\n",
        "    # 1. aggregate flights-airport data set\n",
        "    # 2. lookup location data from airports data set\n",
        "    # 3. remove Puerto Rico (PR) and Virgin Islands (VI)\n",
        "    alt.Chart(flights).mark_circle().transform_aggregate(\n",
        "        groupby=['origin'],\n",
        "        routes='count()'\n",
        "    ).transform_lookup(\n",
        "        lookup='origin',\n",
        "        from_=alt.LookupData(data=airports, key='iata',\n",
        "                             fields=['state', 'latitude', 'longitude'])\n",
        "    ).transform_filter(\n",
        "        'datum.state !== \"PR\" && datum.state !== \"VI\"'\n",
        "    ).add_selection(\n",
        "        origin\n",
        "    ).encode(\n",
        "        latitude='latitude:Q',\n",
        "        longitude='longitude:Q',\n",
        "        tooltip=['origin:N', 'routes:Q'],\n",
        "        size=alt.Size('routes:Q', scale=alt.Scale(range=[0, 1000]), legend=None),\n",
        "        order=alt.Order('routes:Q', sort='descending') # place smaller circles on top\n",
        "    )\n",
        ").project(\n",
        "    type='albersUsa'\n",
        ").properties(\n",
        "    width=900,\n",
        "    height=500\n",
        ").configure_view(\n",
        "    stroke=None\n",
        ")"
      ]
    },
    {
      "cell_type": "markdown",
      "metadata": {},
      "source": [
        "Passe o mouse sobre o mapa para explorar a rede de voos!"
      ]
    },
    {
      "cell_type": "markdown",
      "metadata": {},
      "source": [
        "## <font color=\"gray\">7.5</font> Mapa Coroplético\n",
        "---"
      ]
    },
    {
      "cell_type": "markdown",
      "metadata": {},
      "source": [
        "Um [mapa coroplético](https://pt.wikipedia.org/wiki/Mapa_coropl%C3%A9tico) usa regiões sombreadas ou texturizadas para visualizar valores de dados. Mapas com símbolos dimensionados costumam ser mais precisos para leitura, pois as pessoas tendem a estimar melhor as diferenças proporcionais entre as áreas de círculos do que entre tonalidades de cores. No entanto, os mapas coropléticos são populares na prática e particularmente úteis quando muitos símbolos tornam-se perceptivamente excessivos.\n",
        "\n",
        "Por exemplo, embora os Estados Unidos tem apenas 50 estados, há milhares de condados dentro desses estados. Vamos construir um mapa coroplético da taxa de desemprego por condado, no ano da recessão de 2008. Em alguns casos, os arquivos de entrada GeoJSON ou TopoJSON podem incluir dados estatísticos que podemos visualizar diretamente. Neste caso, no entanto, temos dois arquivos: nosso arquivo TopoJSON, que inclui os limites dos condados (`usa`), e um arquivo de texto separado que contém as estatísticas de desemprego."
      ]
    },
    {
      "cell_type": "code",
      "execution_count": null,
      "metadata": {
        "vscode": {
          "languageId": "plaintext"
        }
      },
      "outputs": [],
      "source": [
        "unemp = data.unemployment.url\n",
        "unemp"
      ]
    },
    {
      "cell_type": "markdown",
      "metadata": {},
      "source": [
        "Para integrar nossas fontes de dados, precisaremos novamente usar a transformação de busca (`lookup`), enriquecendo nossos dados geoespaciais (`geoshape`) baseados em TopoJSON com as taxas de desemprego. Em seguida, podemos criar um mapa que inclua uma codificação de cores (`color`) para o campo de taxa (`rate`) recuperado."
      ]
    },
    {
      "cell_type": "code",
      "execution_count": null,
      "metadata": {
        "vscode": {
          "languageId": "plaintext"
        }
      },
      "outputs": [],
      "source": [
        "alt.Chart(alt.topo_feature(usa, 'counties')).mark_geoshape(\n",
        "    stroke='#aaa', strokeWidth=0.25\n",
        ").transform_lookup(\n",
        "    lookup='id', from_=alt.LookupData(data=unemp, key='id', fields=['rate'])\n",
        ").encode(\n",
        "    alt.Color('rate:Q',\n",
        "              scale=alt.Scale(domain=[0, 0.3], clamp=True),\n",
        "              legend=alt.Legend(format='%')),\n",
        "    alt.Tooltip('rate:Q', format='.0%')\n",
        ").project(\n",
        "    type='albersUsa'\n",
        ").properties(\n",
        "    width=900,\n",
        "    height=500\n",
        ").configure_view(\n",
        "    stroke=None\n",
        ")"
      ]
    },
    {
      "cell_type": "markdown",
      "metadata": {},
      "source": [
        "*Examine as taxas de desemprego por condado. Valores mais altos em Michigan podem estar relacionados à indústria automotiva. Condados nas [Grandes Planícies](https://pt.wikipedia.org/wiki/Grandes_Plan%C3%ADcies) e nos estados das Montanhas apresentam tanto taxas baixas **quanto** altas. Essa variação é significativa ou possivelmente um [artefato de tamanhos amostrais menores](https://medium.com/@uwdata/surprise-maps-showing-the-unexpected-e92b67398865)? Para explorar mais, tente alterar o limite superior da escala (por exemplo, para `0.2`) para ajustar o mapeamento de cores.*\n",
        "\n",
        "Uma preocupação central nos mapas coropléticos é a escolha das cores. Acima, usamos o esquema padrão `yellowgreenblue` do Altair para mapas de calor. Abaixo, comparamos outros esquemas, incluindo um esquema *sequencial de tom único* (`teals`), que varia apenas em luminância; um esquema *sequencial multi-matiz* (`viridis`), que varia tanto em luminância quanto em matiz; e um esquema *divergente* (`blueorange`), que usa um ponto médio branco."
      ]
    },
    {
      "cell_type": "code",
      "execution_count": null,
      "metadata": {
        "vscode": {
          "languageId": "plaintext"
        }
      },
      "outputs": [],
      "source": [
        "# Função utilitária para gerar uma especificação de mapa para um esquema de cores fornecido.\n",
        "def map_(scheme):\n",
        "    return alt.Chart().mark_geoshape().project(type='albersUsa').encode(\n",
        "        alt.Color('rate:Q', scale=alt.Scale(scheme=scheme), legend=None)\n",
        "    ).properties(width=305, height=200)\n",
        "\n",
        "alt.hconcat(\n",
        "    map_('tealblues'), map_('viridis'), map_('blueorange'),\n",
        "    data=alt.topo_feature(usa, 'counties')\n",
        ").transform_lookup(\n",
        "    lookup='id', from_=alt.LookupData(data=unemp, key='id', fields=['rate'])\n",
        ").configure_view(\n",
        "    stroke=None\n",
        ").resolve_scale(\n",
        "    color='independent'\n",
        ")"
      ]
    },
    {
      "cell_type": "markdown",
      "metadata": {},
      "source": [
        "*Quais esquemas de cores você considera mais eficaz? Por que isso pode acontecer? Modifique os mapas acima para usar outros esquemas disponíveis, conforme descrito na [documentação dos Esquemas de Cores do Vega](https://vega.github.io/vega/docs/schemes/).*"
      ]
    },
    {
      "cell_type": "markdown",
      "metadata": {},
      "source": [
        "## <font color=\"gray\">7.6</font> Projeções Cartográficas\n",
        "---"
      ]
    },
    {
      "cell_type": "markdown",
      "metadata": {},
      "source": [
        "Agora que temos alguma experiência na criação de mapas, vamos analisar mais de perto as projeções cartográficas. Conforme explicado pela [Wikipédia](https://pt.wikipedia.org/wiki/Proje%C3%A7%C3%A3o_cartogr%C3%A1fica).\n",
        "\n",
        "\n",
        "> <font color=\"gray\"> *Todas as projeções cartográficas necessariamente distorcem a superfície de alguma forma. Dependendo do propósito do mapa, algumas distorções são aceitáveis e outras não são; portanto, diferentes projeções cartográficas existem para preservar algumas propriedades do corpo esférico em detrimento de outras propriedades.*"
      ]
    },
    {
      "cell_type": "markdown",
      "metadata": {},
      "source": [
        "Algumas das propriedades que podemos querer considerar incluem:\n",
        "\n",
        "* *Área*: A projeção distorce o tamanho das regiões?\n",
        "* *Rumo*: Uma linha reta corresponde a uma direção de viagem constante?\n",
        "* *Distância*: Linhas de comprimento igual correspondem a distâncias iguais no globo?\n",
        "* *Forma*: A projeção preserva as relações espaciais (ângulos) entre os pontos?\n",
        "\n",
        "A seleção de uma projeção apropriada depende do caso de uso do mapa. Por exemplo, se estivermos analisando o uso da terra e a extensão das áreas for relevante, podemos escolher uma projeção que preserve a área. Se quisermos visualizar ondas de choque emanando de um terremoto, podemos centralizar o mapa no epicentro do tremor e preservar as distâncias a partir desse ponto. Já se o objetivo for auxiliar a navegação, a preservação do rumo e da forma pode ser mais importante.\n",
        "\n",
        "Também podemos caracterizar as projeções com base na *superfície de projeção*. As projeções cilíndricas, por exemplo, projetam os pontos da superfície da esfera em um cilindro circundante; ao \"desenrolar\" o cilindro obtemos o nosso mapa. Como descreveremos a seguir, podemos alternativamente projetar sobre a superfície de um cone (projeções cônicas) ou diretamente em um plano plano (projeções azimutais).\n",
        "\n",
        "*Vamos primeiro desenvolver nossa intuição interagindo com uma variedade de projeções! [Abra o notebook online de Projeções Cartográficas do Vega-Lite](https://observablehq.com/@vega/vega-lite-cartographic-projections). Use os controles nessa página para selecionar uma projeção e explorar seus parâmetros, como `scale` (escala ou zoom) e translação x/y (panorâmica). Os controles de rotação ([eixo lateral, longitudinal e vertical](https://pt.wikipedia.org/wiki/Eixos_do_avi%C3%A3o)) determinam a orientação do globo em relação à superfície sobre a qual está sendo projetado.*"
      ]
    },
    {
      "cell_type": "markdown",
      "metadata": {},
      "source": [
        "### <font color=\"gray\">7.6.1 </font> Um Tour pelos Tipos Específicos de Projeções"
      ]
    },
    {
      "cell_type": "markdown",
      "metadata": {},
      "source": [
        "As [projeções cilíndricas](https://jjallaire.github.io/visualization-curriculum/altair_cartographic.html) mapeiam a esfera para um cilindro circundante e, em seguida, \"desenrolam\" o cilindro. Se o eixo principal do cilindro estiver orientado no sentido norte-sul, os meridianos são mapeados como linhas retas. As projeções [pseudo-cilíndricas](https://en.wikipedia.org/wiki/Map_projection#Pseudocylindrical) representam um meridiano central como uma linha reta, com outros meridianos \"curvando-se\" para longe do centro."
      ]
    },
    {
      "cell_type": "code",
      "execution_count": null,
      "metadata": {
        "vscode": {
          "languageId": "plaintext"
        }
      },
      "outputs": [],
      "source": [
        "minimap = map.properties(width=225, height=225)\n",
        "alt.hconcat(\n",
        "    minimap.project(type='equirectangular').properties(title='equirectangular'),\n",
        "    minimap.project(type='mercator').properties(title='mercator'),\n",
        "    minimap.project(type='transverseMercator').properties(title='transverseMercator'),\n",
        "    minimap.project(type='naturalEarth1').properties(title='naturalEarth1')\n",
        ").properties(spacing=10).configure_view(stroke=None)"
      ]
    },
    {
      "cell_type": "markdown",
      "metadata": {},
      "source": [
        "* [Equirectangular](https://en.wikipedia.org/wiki/Equirectangular_projection) (`equirectangular`): Escala os valores das coordenadas de latitude (`lat`) e longitude diretamente (`lon`).\n",
        "* [Mercator](https://en.wikipedia.org/wiki/Mercator_projection) (`mercator`): Projeta sobre um cilindro, utilizando a longitude (`lon`) diretamente, mas submetendo a latitude (`lat`) a uma transformação não linear. Linhas retas preservam rumos constantes ([linhas de rhumb](https://en.wikipedia.org/wiki/Rhumb_line)), tornando essa projeção bem adequada para navegação. No entanto, áreas no extremo norte ou sul podem ser grandemente distorcidas.\n",
        "* [Transversa de Mercator](https://en.wikipedia.org/wiki/Transverse_Mercator_projection) (`transverseMercator`): Uma projeção Mercator, mas com o cilindro de contorno rotacionado para um eixo transversal. Enquanto a projeção Mercator padrão tem maior precisão ao longo do equador, a projeção Transversa de Mercator é mais precisa ao longo do meridiano central.\n",
        "* [Terra Natural](https://en.wikipedia.org/wiki/Natural_Earth_projection) (`naturalEarth1`): Uma projeção pseudo-cilíndrica projetada para mostrar o mundo todo em uma única visualização."
      ]
    },
    {
      "cell_type": "markdown",
      "metadata": {},
      "source": [
        "As [projeções cônicas](https://en.wikipedia.org/wiki/Map_projection#Conic) mapeiam a esfera para um cone e, em seguida, \"desenrolam\" o cone para o plano. As projeções cônicas são configuradas por dois *paralelos padrão*, que determinam onde o cone intersecta o globo."
      ]
    },
    {
      "cell_type": "code",
      "execution_count": null,
      "metadata": {
        "vscode": {
          "languageId": "plaintext"
        }
      },
      "outputs": [],
      "source": [
        "minimap = map.properties(width=180, height=130)\n",
        "alt.hconcat(\n",
        "    minimap.project(type='conicEqualArea').properties(title='conicEqualArea'),\n",
        "    minimap.project(type='conicEquidistant').properties(title='conicEquidistant'),\n",
        "    minimap.project(type='conicConformal', scale=35, translate=[90,65]).properties(title='conicConformal'),\n",
        "    minimap.project(type='albers').properties(title='albers'),\n",
        "    minimap.project(type='albersUsa').properties(title='albersUsa')\n",
        ").properties(spacing=10).configure_view(stroke=None)"
      ]
    },
    {
      "cell_type": "markdown",
      "metadata": {},
      "source": [
        "* [Cônica de Área Preservada](https://en.wikipedia.org/wiki/Albers_projection) (`conicEqualArea`): Projeção cônica que preserva a área. A forma e a distância não são preservadas, mas a precisão é razoável dentro dos paralelos padrão.\n",
        "\n",
        "* [Cônica Equidistante](https://en.wikipedia.org/wiki/Equidistant_conic_projection) (`conicEquidistant`): Projeção cônica que preserva a distância ao longo dos meridianos e paralelos padrão.\n",
        "\n",
        "* [Cônica Conforme](https://en.wikipedia.org/wiki/Lambert_conformal_conic_projection) (`conicConformal`): Projeção cônica que preserva a forma (ângulos locais), mas não a área ou a distância.\n",
        "\n",
        "* [Albers](https://en.wikipedia.org/wiki/Albers_projection) (`albers`): Uma variante da projeção cônica de área preservada, com paralelos padrão otimizados para criar mapas dos Estados Unidos.\n",
        "\n",
        "* [Albers EUA](https://en.wikipedia.org/wiki/Albers_projection) (`albersUsa`): Uma projeção híbrida para os 50 estados dos Estados Unidos da América. Esta projeção une três projeções Albers com parâmetros diferentes para os EUA continentais, Alasca e Havai."
      ]
    },
    {
      "cell_type": "markdown",
      "metadata": {},
      "source": [
        "As [**projeções azimutais**](https://en.wikipedia.org/wiki/Map_projection#Azimuthal_%28projections_onto_a_plane%29) mapeiam a esfera diretamente em um plano."
      ]
    },
    {
      "cell_type": "code",
      "execution_count": null,
      "metadata": {
        "vscode": {
          "languageId": "plaintext"
        }
      },
      "outputs": [],
      "source": [
        "minimap = map.properties(width=180, height=180)\n",
        "alt.hconcat(\n",
        "    minimap.project(type='azimuthalEqualArea').properties(title='azimuthalEqualArea'),\n",
        "    minimap.project(type='azimuthalEquidistant').properties(title='azimuthalEquidistant'),\n",
        "    minimap.project(type='orthographic').properties(title='orthographic'),\n",
        "    minimap.project(type='stereographic').properties(title='stereographic'),\n",
        "    minimap.project(type='gnomonic').properties(title='gnomonic')\n",
        ").properties(spacing=10).configure_view(stroke=None)"
      ]
    },
    {
      "cell_type": "markdown",
      "metadata": {},
      "source": [
        "* [Azimutal de Área Preservada](https://en.wikipedia.org/wiki/Lambert_azimuthal_equal-area_projection) (`azimuthalEqualArea`): Projeta com precisão a área em todas as partes do globo, mas não preserva a forma (ângulos locais).\n",
        "\n",
        "* [Azimutal Equidistante](https://en.wikipedia.org/wiki/Azimuthal_equidistant_projection) (`azimuthalEquidistant`): Preserva a distância proporcional do centro da projeção para todos os outros pontos no globo.\n",
        "\n",
        "* [Ortográfica](https://en.wikipedia.org/wiki/Orthographic_map_projection) (`orthographic`): Projeta um hemisfério visível para um plano distante. Aproximadamente corresponde a uma visão da Terra do espaço exterior.\n",
        "\n",
        "* [Estereográfica](https://pt.wikipedia.org/wiki/Proje%C3%A7%C3%A3o_estereogr%C3%A1fica) (`stereographic`): Preserva a forma, mas não a área ou a distância.\n",
        "\n",
        "* [Gnomômica](https://en.wikipedia.org/wiki/Gnomonic_projection) (`gnomonic`): Projeta a superfície da esfera diretamente para um plano tangente. [Círculos máximos](https://en.wikipedia.org/wiki/Great_circle) ao redor da Terra são projetados como linhas retas, mostrando o caminho mais curto entre os pontos."
      ]
    }
  ],
  "metadata": {
    "language_info": {
      "name": "python"
    }
  },
  "nbformat": 4,
  "nbformat_minor": 2
}
