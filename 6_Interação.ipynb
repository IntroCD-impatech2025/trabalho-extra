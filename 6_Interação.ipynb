{
 "cells": [
  {
   "cell_type": "markdown",
   "metadata": {},
   "source": [
    "## 6. Interação\n",
    "---\n",
    ">_“A graphic is not ‘drawn’ once and for all; it is ‘constructed’ and reconstructed until it reveals all the relationships constituted by the interplay of the data. The best graphic operations are those carried out by the decision-maker themself.”_ &mdash; [Jacques Bertin](https://books.google.com/books?id=csqX_xnm4tcC)\n",
    ">>_“Um gráfico não é ‘desenhado’ de uma vez por todas; ele é ‘construído’ e reconstruído até revelar todas as relações constituídas pela interação dos dados. As melhores operações gráficas são aquelas realizadas pelo próprio tomador de decisão.”_ \n",
    "\n",
    "Visualizações oferecem um caminho poderoso para a compreensão de dados. Uma única imagem, no entanto, tipicamente responde, na melhor das hipóteses, um pequeno conjunto de perguntas. Por meio da _interação_, podemos transformar imagens estáticas em ferramentas de exploração: destacando pontos de interesse, mudando a perspectiva para revelar padrões mais detalhados e vinculando múltiplas visões para analisar relações multidimensionais.  \n",
    "\n",
    "\n",
    "No cerne da interação está a noção de _seleção_: um meio de indicar ao computador quais elementos ou regiões nos interessam. Por exemplo, podemos passar o mouse sobre um ponto, clicar em múltiplas marcas ou desenhar uma caixa delimitadora ao redor de uma região para destacar subconjuntos dos dados para análise mais aprofundada.  \n",
    "\n",
    "Além das codificações visuais e transformações de dados, o Altair fornece uma abstração de _seleção_ para a criação de interações. Essas seleções abrangem três aspectos:  \n",
    "\n",
    "1. Manipulação dos inputs para selecionar pontos ou regiões de interesse, como passar o mouse, clicar, arrastar, rolar e tocar (telas sensíveis).  \n",
    "2. Generalização da entrada para formar uma regra de seleção (ou [_predicado_](https://en.wikipedia.org/wiki/Predicate_%28mathematical_logic%29)) que determina se um determinado registro de dados está ou não dentro da seleção.  \n",
    "3. Uso do predicado de seleção para configurar dinamicamente uma visualização, acionando _codificações condicionais_, _transformações de filtro_ ou _domínios de escala_.  \n",
    "\n",
    "Este capítulo apresenta seleções interativas e explora como usá-las para desenvolver diversas técnicas de interação, como consultas dinâmicas, panorâmica &amp; zoom, detalhes sob demanda e brushing &amp; linking.\n",
    "\n",
    "_Esse capítulo faz parte do [currículo de visualização de dados](https://github.com/uwdata/visualization-curriculum)._"
   ]
  },
  {
   "cell_type": "code",
   "execution_count": 1,
   "metadata": {},
   "outputs": [],
   "source": [
    "import altair as alt\n",
    "import pandas as pd"
   ]
  },
  {
   "cell_type": "markdown",
   "metadata": {},
   "source": [
    "## 6.2 Introduzindo seleções"
   ]
  },
  {
   "cell_type": "markdown",
   "metadata": {},
   "source": [
    "Vamos começar com uma seleção básica: simplesmente clicar em um ponto para destacá-lo. Usando o _dataset_ `cars`, criaremos um gráfico de dispersão (_scatter plot_) relacionando potência (_horsepower_) e milhas por galão (_miles per gallon_), com uma codificação de cor baseada no número de cilindros do motor do carro.  \n",
    "\n",
    "Além disso, criaremos uma instância de seleção chamando `alt.selection_single()`, indicando que queremos que a seleção seja definida sobre um _único valor_. Por padrão, a seleção usa um clique do mouse para determinar o valor selecionado. Para registrar uma seleção em um gráfico, devemos adicioná-la usando o método `.add_selection()`.  \n",
    "\n",
    "Uma vez definida a seleção, podemos utilizá-la como parâmetro para _codificações condicionais_, que aplicam uma codificação diferente dependendo se um registro de dados está dentro ou fora da seleção. Por exemplo, considere o seguinte código:  \n",
    "\n",
    "~~~ python\n",
    "color=alt.condition(selection, 'Cylinders:O', alt.value('grey'))\n",
    "~~~  \n",
    "\n",
    "Essa definição de codificação especifica que os pontos de dados contidos na `selection` devem ser coloridos de acordo com o campo `Cylinders`, enquanto os pontos não selecionados devem usar a cor padrão `grey`. Uma seleção vazia inclui _todos_ os pontos de dados, de modo que, inicialmente, todos os pontos serão coloridos.  \n",
    "\n",
    "_Tente clicar em diferentes pontos no gráfico abaixo. O que acontece? (Clique no fundo resetar a seleção.)_"
   ]
  },
  {
   "cell_type": "code",
   "execution_count": 2,
   "metadata": {},
   "outputs": [
    {
     "name": "stderr",
     "output_type": "stream",
     "text": [
      "C:\\Users\\gabyd\\AppData\\Local\\Temp\\ipykernel_16708\\2101507836.py:1: AltairDeprecationWarning: \n",
      "Deprecated since `altair=5.0.0`. Use selection_point instead.\n",
      "  selection = alt.selection_single();\n"
     ]
    },
    {
     "ename": "NameError",
     "evalue": "name 'cars' is not defined",
     "output_type": "error",
     "traceback": [
      "\u001b[1;31m---------------------------------------------------------------------------\u001b[0m",
      "\u001b[1;31mNameError\u001b[0m                                 Traceback (most recent call last)",
      "Cell \u001b[1;32mIn[2], line 3\u001b[0m\n\u001b[0;32m      1\u001b[0m selection \u001b[38;5;241m=\u001b[39m alt\u001b[38;5;241m.\u001b[39mselection_single();\n\u001b[1;32m----> 3\u001b[0m alt\u001b[38;5;241m.\u001b[39mChart(\u001b[43mcars\u001b[49m)\u001b[38;5;241m.\u001b[39mmark_circle()\u001b[38;5;241m.\u001b[39madd_selection(\n\u001b[0;32m      4\u001b[0m     selection\n\u001b[0;32m      5\u001b[0m )\u001b[38;5;241m.\u001b[39mencode(\n\u001b[0;32m      6\u001b[0m     x\u001b[38;5;241m=\u001b[39m\u001b[38;5;124m'\u001b[39m\u001b[38;5;124mHorsepower:Q\u001b[39m\u001b[38;5;124m'\u001b[39m,\n\u001b[0;32m      7\u001b[0m     y\u001b[38;5;241m=\u001b[39m\u001b[38;5;124m'\u001b[39m\u001b[38;5;124mMiles_per_Gallon:Q\u001b[39m\u001b[38;5;124m'\u001b[39m,\n\u001b[0;32m      8\u001b[0m     color\u001b[38;5;241m=\u001b[39malt\u001b[38;5;241m.\u001b[39mcondition(selection, \u001b[38;5;124m'\u001b[39m\u001b[38;5;124mCylinders:O\u001b[39m\u001b[38;5;124m'\u001b[39m, alt\u001b[38;5;241m.\u001b[39mvalue(\u001b[38;5;124m'\u001b[39m\u001b[38;5;124mgrey\u001b[39m\u001b[38;5;124m'\u001b[39m)),\n\u001b[0;32m      9\u001b[0m     opacity\u001b[38;5;241m=\u001b[39malt\u001b[38;5;241m.\u001b[39mcondition(selection, alt\u001b[38;5;241m.\u001b[39mvalue(\u001b[38;5;241m0.8\u001b[39m), alt\u001b[38;5;241m.\u001b[39mvalue(\u001b[38;5;241m0.1\u001b[39m))\n\u001b[0;32m     10\u001b[0m )\n",
      "\u001b[1;31mNameError\u001b[0m: name 'cars' is not defined"
     ]
    }
   ],
   "source": [
    "selection = alt.selection_single();\n",
    "  \n",
    "alt.Chart(cars).mark_circle().add_selection(\n",
    "    selection\n",
    ").encode(\n",
    "    x='Horsepower:Q',\n",
    "    y='Miles_per_Gallon:Q',\n",
    "    color=alt.condition(selection, 'Cylinders:O', alt.value('grey')),\n",
    "    opacity=alt.condition(selection, alt.value(0.8), alt.value(0.1))\n",
    ")"
   ]
  },
  {
   "cell_type": "markdown",
   "metadata": {},
   "source": [
    "É claro que destacar pontos de dados um a um não é particularmente promissor! Entretanto, como veremos, seleções de um único valor são um útil bloco de construção de interações mais poderosas. Of course, highlighting individual data points one-at-a-time is not particularly exciting! As we'll see, however, single value selections provide a useful building block for more powerful interactions. Além disso, seleções de um único valor só podem pertencer a um desses três tipos fornecidos pelo Altair:\n",
    "\n",
    "- `selection_single` - seleciona um único valor discreto, por configuração inicial através de cliques. \n",
    "- `selection_multi` - seleciona múltiplos valores discretos. O primeiro é selcionado por um clique de mouse e os seguintes, values. The first value is selected on mouse click and additional values toggled using shift-click.\n",
    "- `selection_interval` - seleciona um intervalo contínuo de valores e é iniciado pelo arrastar do mouse. \n",
    "\n",
    "Vamos comparar cada um desses tipos de seleção lado a lado. Para manter seu código organizado, vamos primeiro definir uma função (`plot`) que gera uma especificação para gráfico de dispersão (_scatter plot_) exatamente como a que vimos acima. Podemos passar uma seleção para a função `plot` Para aplicá-la ao gráfico:"
   ]
  },
  {
   "cell_type": "code",
   "execution_count": null,
   "metadata": {},
   "outputs": [],
   "source": [
    "def plot(selection):\n",
    "    return alt.Chart(cars).mark_circle().add_selection(\n",
    "        selection\n",
    "    ).encode(\n",
    "        x='Horsepower:Q',\n",
    "        y='Miles_per_Gallon:Q',\n",
    "        color=alt.condition(selection, 'Cylinders:O', alt.value('grey')),\n",
    "        opacity=alt.condition(selection, alt.value(0.8), alt.value(0.1))\n",
    "    ).properties(\n",
    "        width=240,\n",
    "        height=180\n",
    "    )"
   ]
  },
  {
   "cell_type": "markdown",
   "metadata": {},
   "source": [
    "Vamos usar nossa função `plot` para criar três variantes de gráficos, uma para cada tipo de seleção.\n",
    "\n",
    "O primeiro (`single`) gráfico replica nosso exemplo anterior. O segundo (`multi`) gráfico aceita interações shift-click para alternar inclusão de múltiplos pontos dentro da seleção. O terceiro (`interval`) gráfico gera uma seleção de região (ou _brush_) pelo arrastar do mouse. Uma vez criada, você pode arrastar o pincel por aí para selecionar diferentes pontosnce created, ou rodar quando o cursor está dentro da região para mudar a escala (zoom) do pincel.\n",
    "\n",
    "_Tente interagir com cada um dos gráficos abaixo!_"
   ]
  },
  {
   "cell_type": "code",
   "execution_count": null,
   "metadata": {},
   "outputs": [],
   "source": [
    "alt.hconcat(\n",
    "  plot(alt.selection_single()).properties(title='Single (Click)'),\n",
    "  plot(alt.selection_multi()).properties(title='Multi (Shift-Click)'),\n",
    "  plot(alt.selection_interval()).properties(title='Interval (Drag)')\n",
    ")"
   ]
  },
  {
   "cell_type": "markdown",
   "metadata": {},
   "source": [
    "Os exemplos acima utilizam interações padrão (clique, shift-clique, arrastar) para cada tipo de seleção. Podemos customizar as interações mais a fundo ao fonecer especificações de input usando a [sintaxe de seleção de eventos do Vega](https://vega.github.io/vega/docs/event-streams/). Por exemplo, podemos modificar nossos gráficos `single` e `multi` para que tenham por gatilho eventos de `passagem de mouse` _(`mouseover`)_ ao invés dos de `clique`.\n",
    "\n",
    "_Mantenha pressionada a tecla Shift no segundo gráfico para \"pintar\" com os dados!_"
   ]
  },
  {
   "cell_type": "code",
   "execution_count": null,
   "metadata": {},
   "outputs": [],
   "source": [
    "alt.hconcat(\n",
    "  plot(alt.selection_single(on='mouseover')).properties(title='Single (Mouseover)'),\n",
    "  plot(alt.selection_multi(on='mouseover')).properties(title='Multi (Shift-Mouseover)')\n",
    ")"
   ]
  },
  {
   "cell_type": "markdown",
   "metadata": {},
   "source": [
    "Agora que cobrimos as bases das seleções em Altair, vamos por um tour através das várias técnicas de interação que encerram!"
   ]
  },
  {
   "cell_type": "markdown",
   "metadata": {},
   "source": [
    "## 6.5 Navegação: Visão geral + Detalhes"
   ]
  },
  {
   "cell_type": "markdown",
   "metadata": {},
   "source": [
    "Ao optar por uma visão panorâmica ou um zoom, ajustamos diretamente When panning and zooming, we directly adjust the \"janela de visualização\" de um gráfico. A estratégia de navegação de _visão geral + detalhes_, pelo contrário usa uma tela de janela de visualização para mostrar _todos_ os dados enquando permite seleções com zoom in e out em uma tela de foco separado.\n",
    "\n",
    "Abaixo temos dois gráficos de área mostrando uma década de flutuações de preço para o índice de ações da S&amp;P 500. Inicialmente ambos os gráficos mostram o mesmo intervalo de dados. _Clique e arraste no gráfico de visão geral inferior para atualizar o foco da tela e examinar períodos de tempo específicos._"
   ]
  },
  {
   "cell_type": "code",
   "execution_count": null,
   "metadata": {},
   "outputs": [],
   "source": [
    "brush = alt.selection_interval(encodings=['x']);\n",
    "\n",
    "base = alt.Chart().mark_area().encode(\n",
    "    alt.X('date:T', title=None),\n",
    "    alt.Y('price:Q')\n",
    ").properties(\n",
    "    width=700\n",
    ")\n",
    "\n",
    "alt.vconcat(\n",
    "    base.encode(alt.X('date:T', title=None, scale=alt.Scale(domain=brush))),\n",
    "    base.add_selection(brush).properties(height=60),\n",
    "    data=sp500\n",
    ")"
   ]
  },
  {
   "cell_type": "markdown",
   "metadata": {},
   "source": [
    "Ao contrário do nosso caso anterior de zoom in &amp; out, aqui não queremos vincular uma seleção diretamente às escalas de um único gráfico interativo. Ao invés disso, queremos vincular a seleção a um domínio de escala em _outro_ gráfico. Para fazer isso, atualizamos o canal de codificação `x` para o nosso gráfico de foco, configurando o `domínio` de escala pare referenciar nossa seleção `brush`. Se nenhum intervalo está definido (seleção vazia), o Altair ignora o pincel e usa os dados subjacentes para determinar o domínio. Quando um intervalo de pincel é criado, o Altair o usa em substituição ao `domínio` da escala para o gráfico de interesse."
   ]
  },
  {
   "cell_type": "markdown",
   "metadata": {},
   "source": [
    "## 6.8 Sumário"
   ]
  },
  {
   "cell_type": "markdown",
   "metadata": {},
   "source": [
    "Para mais detalhes sobre as opções de interação disponíveis em Altair, por facor consulte a [Documentação de seleção interativa para Altair](https://altair-viz.github.io/user_guide/interactions.html). Para detalhes sobre como customizar manipuladores de eventes, por exemplo para compor técnicas de múltiplas intereções ou aceitar inputs de toque para dispositivos touch-screen, veja a [documentação de seleção Vega-Lite](https://vega.github.io/vega-lite/docs/selection.html).\n",
    "\n",
    "Interessado em aprender mais?\n",
    "- A abstração de _seleção_ foi introduzida no artigo [Vega-Lite: A Grammar of Interactive Graphics](http://idl.cs.washington.edu/papers/vega-lite/), por Satyanarayan, Moritz, Wongsuphasawat, &amp; Heer.\n",
    "- O sistema PRIM-9 (para projeções, rotações, isolamento e masking de até 9 dimensõess) é uma das primeiras ferramentas de visualização interativa, construída no início dos anos 70 por Fisherkeller, Tukey, &amp; Friedman. [Um vídeo retrô de demonstração sobreviveu!](http://stat-graphics.org/movies/prim9.html)\n",
    "- O conceito de pincelar e &amp; linkar foi cristalizado por Becker, Cleveland, &amp; Wilks em seu artigo de 1987 [Dynamic Graphics for Data Analysis](https://scholar.google.com/scholar?cluster=14817303117298653693).\n",
    "- Para um sumário compreensivo de técnicas de interação para visualizações, veja [Interactive Dynamics for Visual Analysis](https://queue.acm.org/detail.cfm?id=2146416) por Heer &amp; Shneiderman.\n",
    "- Finalmente, para um tratado sobre o que torna uma interalçao efetiva leia o clássico [Direct Manipulation Interfaces](https://scholar.google.com/scholar?cluster=15702972136892195211) de Hutchins, Hollan, &amp; Norman."
   ]
  }
 ],
 "metadata": {
  "kernelspec": {
   "display_name": "Python 3",
   "language": "python",
   "name": "python3"
  },
  "language_info": {
   "codemirror_mode": {
    "name": "ipython",
    "version": 3
   },
   "file_extension": ".py",
   "mimetype": "text/x-python",
   "name": "python",
   "nbconvert_exporter": "python",
   "pygments_lexer": "ipython3",
   "version": "3.12.3"
  }
 },
 "nbformat": 4,
 "nbformat_minor": 2
}
