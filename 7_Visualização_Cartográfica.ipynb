{
 "cells": [
  {
   "cell_type": "markdown",
   "metadata": {},
   "source": [
    "## <font color=\"gray\">7.5</font> Mapa Coroplético\n",
    "---"
   ]
  },
  {
   "cell_type": "markdown",
   "metadata": {},
   "source": [
    "Um [mapa coroplético](https://pt.wikipedia.org/wiki/Mapa_coropl%C3%A9tico) usa regiões sombreadas ou texturizadas para visualizar valores de dados. Mapas com símbolos dimensionados costumam ser mais precisos para leitura, pois as pessoas tendem a estimar melhor as diferenças proporcionais entre as áreas de círculos do que entre tonalidades de cores. No entanto, os mapas coropléticos são populares na prática e particularmente úteis quando muitos símbolos tornam-se perceptivamente excessivos.\n",
    "\n",
    "Por exemplo, embora os Estados Unidos tem apenas 50 estados, há milhares de condados dentro desses estados. Vamos construir um mapa coroplético da taxa de desemprego por condado, no ano da recessão de 2008. Em alguns casos, os arquivos de entrada GeoJSON ou TopoJSON podem incluir dados estatísticos que podemos visualizar diretamente. Neste caso, no entanto, temos dois arquivos: nosso arquivo TopoJSON, que inclui os limites dos condados (`usa`), e um arquivo de texto separado que contém as estatísticas de desemprego."
   ]
  },
  {
   "cell_type": "code",
   "execution_count": null,
   "metadata": {
    "vscode": {
     "languageId": "plaintext"
    }
   },
   "outputs": [],
   "source": [
    "unemp = data.unemployment.url\n",
    "unemp"
   ]
  },
  {
   "cell_type": "markdown",
   "metadata": {},
   "source": [
    "Para integrar nossas fontes de dados, precisaremos novamente usar a transformação de busca (`lookup`), enriquecendo nossos dados geoespaciais (`geoshape`) baseados em TopoJSON com as taxas de desemprego. Em seguida, podemos criar um mapa que inclua uma codificação de cores (`color`) para o campo de taxa (`rate`) recuperado."
   ]
  },
  {
   "cell_type": "code",
   "execution_count": null,
   "metadata": {
    "vscode": {
     "languageId": "plaintext"
    }
   },
   "outputs": [],
   "source": [
    "alt.Chart(alt.topo_feature(usa, 'counties')).mark_geoshape(\n",
    "    stroke='#aaa', strokeWidth=0.25\n",
    ").transform_lookup(\n",
    "    lookup='id', from_=alt.LookupData(data=unemp, key='id', fields=['rate'])\n",
    ").encode(\n",
    "    alt.Color('rate:Q',\n",
    "              scale=alt.Scale(domain=[0, 0.3], clamp=True),\n",
    "              legend=alt.Legend(format='%')),\n",
    "    alt.Tooltip('rate:Q', format='.0%')\n",
    ").project(\n",
    "    type='albersUsa'\n",
    ").properties(\n",
    "    width=900,\n",
    "    height=500\n",
    ").configure_view(\n",
    "    stroke=None\n",
    ")"
   ]
  },
  {
   "cell_type": "markdown",
   "metadata": {},
   "source": [
    "*Examine as taxas de desemprego por condado. Valores mais altos em Michigan podem estar relacionados à indústria automotiva. Condados nas [Grandes Planícies](https://pt.wikipedia.org/wiki/Grandes_Plan%C3%ADcies) e nos estados das Montanhas apresentam tanto taxas baixas **quanto** altas. Essa variação é significativa ou possivelmente um [artefato de tamanhos amostrais menores](https://medium.com/@uwdata/surprise-maps-showing-the-unexpected-e92b67398865)? Para explorar mais, tente alterar o limite superior da escala (por exemplo, para `0.2`) para ajustar o mapeamento de cores.*\n",
    "\n",
    "Uma preocupação central nos mapas coropléticos é a escolha das cores. Acima, usamos o esquema padrão `yellowgreenblue` do Altair para mapas de calor. Abaixo, comparamos outros esquemas, incluindo um esquema *sequencial de tom único* (`teals`), que varia apenas em luminância; um esquema *sequencial multi-matiz* (`viridis`), que varia tanto em luminância quanto em matiz; e um esquema *divergente* (`blueorange`), que usa um ponto médio branco."
   ]
  },
  {
   "cell_type": "code",
   "execution_count": null,
   "metadata": {
    "vscode": {
     "languageId": "plaintext"
    }
   },
   "outputs": [],
   "source": [
    "# Função utilitária para gerar uma especificação de mapa para um esquema de cores fornecido.\n",
    "def map_(scheme):\n",
    "    return alt.Chart().mark_geoshape().project(type='albersUsa').encode(\n",
    "        alt.Color('rate:Q', scale=alt.Scale(scheme=scheme), legend=None)\n",
    "    ).properties(width=305, height=200)\n",
    "\n",
    "alt.hconcat(\n",
    "    map_('tealblues'), map_('viridis'), map_('blueorange'),\n",
    "    data=alt.topo_feature(usa, 'counties')\n",
    ").transform_lookup(\n",
    "    lookup='id', from_=alt.LookupData(data=unemp, key='id', fields=['rate'])\n",
    ").configure_view(\n",
    "    stroke=None\n",
    ").resolve_scale(\n",
    "    color='independent'\n",
    ")"
   ]
  },
  {
   "cell_type": "markdown",
   "metadata": {},
   "source": [
    "*Quais esquemas de cores você considera mais eficaz? Por que isso pode acontecer? Modifique os mapas acima para usar outros esquemas disponíveis, conforme descrito na [documentação dos Esquemas de Cores do Vega](https://vega.github.io/vega/docs/schemes/).*"
   ]
  },
  {
   "cell_type": "markdown",
   "metadata": {},
   "source": [
    "## <font color=\"gray\">7.6</font> Projeções Cartográficas\n",
    "---"
   ]
  },
  {
   "cell_type": "markdown",
   "metadata": {},
   "source": [
    "Agora que temos alguma experiência na criação de mapas, vamos analisar mais de perto as projeções cartográficas. Conforme explicado pela [Wikipédia](https://pt.wikipedia.org/wiki/Proje%C3%A7%C3%A3o_cartogr%C3%A1fica).\n",
    "\n",
    "\n",
    "> <font color=\"gray\"> *Todas as projeções cartográficas necessariamente distorcem a superfície de alguma forma. Dependendo do propósito do mapa, algumas distorções são aceitáveis e outras não são; portanto, diferentes projeções cartográficas existem para preservar algumas propriedades do corpo esférico em detrimento de outras propriedades.*"
   ]
  },
  {
   "cell_type": "markdown",
   "metadata": {},
   "source": [
    "Algumas das propriedades que podemos querer considerar incluem:\n",
    "\n",
    "* *Área*: A projeção distorce o tamanho das regiões?\n",
    "* *Rumo*: Uma linha reta corresponde a uma direção de viagem constante?\n",
    "* *Distância*: Linhas de comprimento igual correspondem a distâncias iguais no globo?\n",
    "* *Forma*: A projeção preserva as relações espaciais (ângulos) entre os pontos?\n",
    "\n",
    "A seleção de uma projeção apropriada depende do caso de uso do mapa. Por exemplo, se estivermos analisando o uso da terra e a extensão das áreas for relevante, podemos escolher uma projeção que preserve a área. Se quisermos visualizar ondas de choque emanando de um terremoto, podemos centralizar o mapa no epicentro do tremor e preservar as distâncias a partir desse ponto. Já se o objetivo for auxiliar a navegação, a preservação do rumo e da forma pode ser mais importante.\n",
    "\n",
    "Também podemos caracterizar as projeções com base na *superfície de projeção*. As projeções cilíndricas, por exemplo, projetam os pontos da superfície da esfera em um cilindro circundante; ao \"desenrolar\" o cilindro obtemos o nosso mapa. Como descreveremos a seguir, podemos alternativamente projetar sobre a superfície de um cone (projeções cônicas) ou diretamente em um plano plano (projeções azimutais).\n",
    "\n",
    "*Vamos primeiro desenvolver nossa intuição interagindo com uma variedade de projeções! [Abra o notebook online de Projeções Cartográficas do Vega-Lite](https://observablehq.com/@vega/vega-lite-cartographic-projections). Use os controles nessa página para selecionar uma projeção e explorar seus parâmetros, como `scale` (escala ou zoom) e translação x/y (panorâmica). Os controles de rotação ([eixo lateral, longitudinal e vertical](https://pt.wikipedia.org/wiki/Eixos_do_avi%C3%A3o)) determinam a orientação do globo em relação à superfície sobre a qual está sendo projetado.*"
   ]
  },
  {
   "cell_type": "markdown",
   "metadata": {},
   "source": [
    "### <font color=\"gray\">7.6.1 </font> Um Tour pelos Tipos Específicos de Projeções"
   ]
  },
  {
   "cell_type": "markdown",
   "metadata": {},
   "source": [
    "As [projeções cilíndricas](https://jjallaire.github.io/visualization-curriculum/altair_cartographic.html) mapeiam a esfera para um cilindro circundante e, em seguida, \"desenrolam\" o cilindro. Se o eixo principal do cilindro estiver orientado no sentido norte-sul, os meridianos são mapeados como linhas retas. As projeções [pseudo-cilíndricas](https://en.wikipedia.org/wiki/Map_projection#Pseudocylindrical) representam um meridiano central como uma linha reta, com outros meridianos \"curvando-se\" para longe do centro."
   ]
  },
  {
   "cell_type": "code",
   "execution_count": null,
   "metadata": {
    "vscode": {
     "languageId": "plaintext"
    }
   },
   "outputs": [],
   "source": [
    "minimap = map.properties(width=225, height=225)\n",
    "alt.hconcat(\n",
    "    minimap.project(type='equirectangular').properties(title='equirectangular'),\n",
    "    minimap.project(type='mercator').properties(title='mercator'),\n",
    "    minimap.project(type='transverseMercator').properties(title='transverseMercator'),\n",
    "    minimap.project(type='naturalEarth1').properties(title='naturalEarth1')\n",
    ").properties(spacing=10).configure_view(stroke=None)"
   ]
  },
  {
   "cell_type": "markdown",
   "metadata": {},
   "source": [
    "* [Equirectangular](https://en.wikipedia.org/wiki/Equirectangular_projection) (`equirectangular`): Escala os valores das coordenadas de latitude (`lat`) e longitude diretamente (`lon`).\n",
    "* [Mercator](https://en.wikipedia.org/wiki/Mercator_projection) (`mercator`): Projeta sobre um cilindro, utilizando a longitude (`lon`) diretamente, mas submetendo a latitude (`lat`) a uma transformação não linear. Linhas retas preservam rumos constantes ([linhas de rhumb](https://en.wikipedia.org/wiki/Rhumb_line)), tornando essa projeção bem adequada para navegação. No entanto, áreas no extremo norte ou sul podem ser grandemente distorcidas.\n",
    "* [Transversa de Mercator](https://en.wikipedia.org/wiki/Transverse_Mercator_projection) (`transverseMercator`): Uma projeção Mercator, mas com o cilindro de contorno rotacionado para um eixo transversal. Enquanto a projeção Mercator padrão tem maior precisão ao longo do equador, a projeção Transversa de Mercator é mais precisa ao longo do meridiano central.\n",
    "* [Terra Natural](https://en.wikipedia.org/wiki/Natural_Earth_projection) (`naturalEarth1`): Uma projeção pseudo-cilíndrica projetada para mostrar o mundo todo em uma única visualização."
   ]
  },
  {
   "cell_type": "markdown",
   "metadata": {},
   "source": [
    "As [projeções cônicas](https://en.wikipedia.org/wiki/Map_projection#Conic) mapeiam a esfera para um cone e, em seguida, \"desenrolam\" o cone para o plano. As projeções cônicas são configuradas por dois *paralelos padrão*, que determinam onde o cone intersecta o globo."
   ]
  },
  {
   "cell_type": "code",
   "execution_count": null,
   "metadata": {
    "vscode": {
     "languageId": "plaintext"
    }
   },
   "outputs": [],
   "source": [
    "minimap = map.properties(width=180, height=130)\n",
    "alt.hconcat(\n",
    "    minimap.project(type='conicEqualArea').properties(title='conicEqualArea'),\n",
    "    minimap.project(type='conicEquidistant').properties(title='conicEquidistant'),\n",
    "    minimap.project(type='conicConformal', scale=35, translate=[90,65]).properties(title='conicConformal'),\n",
    "    minimap.project(type='albers').properties(title='albers'),\n",
    "    minimap.project(type='albersUsa').properties(title='albersUsa')\n",
    ").properties(spacing=10).configure_view(stroke=None)"
   ]
  },
  {
   "cell_type": "markdown",
   "metadata": {},
   "source": [
    "* [Cônica de Área Preservada](https://en.wikipedia.org/wiki/Albers_projection) (`conicEqualArea`): Projeção cônica que preserva a área. A forma e a distância não são preservadas, mas a precisão é razoável dentro dos paralelos padrão.\n",
    "\n",
    "* [Cônica Equidistante](https://en.wikipedia.org/wiki/Equidistant_conic_projection) (`conicEquidistant`): Projeção cônica que preserva a distância ao longo dos meridianos e paralelos padrão.\n",
    "\n",
    "* [Cônica Conforme](https://en.wikipedia.org/wiki/Lambert_conformal_conic_projection) (`conicConformal`): Projeção cônica que preserva a forma (ângulos locais), mas não a área ou a distância.\n",
    "\n",
    "* [Albers](https://en.wikipedia.org/wiki/Albers_projection) (`albers`): Uma variante da projeção cônica de área preservada, com paralelos padrão otimizados para criar mapas dos Estados Unidos.\n",
    "\n",
    "* [Albers EUA](https://en.wikipedia.org/wiki/Albers_projection) (`albersUsa`): Uma projeção híbrida para os 50 estados dos Estados Unidos da América. Esta projeção une três projeções Albers com parâmetros diferentes para os EUA continentais, Alasca e Havai."
   ]
  },
  {
   "cell_type": "markdown",
   "metadata": {},
   "source": [
    "As [**projeções azimutais**](https://en.wikipedia.org/wiki/Map_projection#Azimuthal_%28projections_onto_a_plane%29) mapeiam a esfera diretamente em um plano."
   ]
  },
  {
   "cell_type": "code",
   "execution_count": null,
   "metadata": {
    "vscode": {
     "languageId": "plaintext"
    }
   },
   "outputs": [],
   "source": [
    "minimap = map.properties(width=180, height=180)\n",
    "alt.hconcat(\n",
    "    minimap.project(type='azimuthalEqualArea').properties(title='azimuthalEqualArea'),\n",
    "    minimap.project(type='azimuthalEquidistant').properties(title='azimuthalEquidistant'),\n",
    "    minimap.project(type='orthographic').properties(title='orthographic'),\n",
    "    minimap.project(type='stereographic').properties(title='stereographic'),\n",
    "    minimap.project(type='gnomonic').properties(title='gnomonic')\n",
    ").properties(spacing=10).configure_view(stroke=None)"
   ]
  },
  {
   "cell_type": "markdown",
   "metadata": {},
   "source": [
    "* [Azimutal de Área Preservada](https://en.wikipedia.org/wiki/Lambert_azimuthal_equal-area_projection) (`azimuthalEqualArea`): Projeta com precisão a área em todas as partes do globo, mas não preserva a forma (ângulos locais).\n",
    "\n",
    "* [Azimutal Equidistante](https://en.wikipedia.org/wiki/Azimuthal_equidistant_projection) (`azimuthalEquidistant`): Preserva a distância proporcional do centro da projeção para todos os outros pontos no globo.\n",
    "\n",
    "* [Ortográfica](https://en.wikipedia.org/wiki/Orthographic_map_projection) (`orthographic`): Projeta um hemisfério visível para um plano distante. Aproximadamente corresponde a uma visão da Terra do espaço exterior.\n",
    "\n",
    "* [Estereográfica](https://pt.wikipedia.org/wiki/Proje%C3%A7%C3%A3o_estereogr%C3%A1fica) (`stereographic`): Preserva a forma, mas não a área ou a distância.\n",
    "\n",
    "* [Gnomômica](https://en.wikipedia.org/wiki/Gnomonic_projection) (`gnomonic`): Projeta a superfície da esfera diretamente para um plano tangente. [Círculos máximos](https://en.wikipedia.org/wiki/Great_circle) ao redor da Terra são projetados como linhas retas, mostrando o caminho mais curto entre os pontos."
   ]
  }
 ],
 "metadata": {
  "language_info": {
   "name": "python"
  }
 },
 "nbformat": 4,
 "nbformat_minor": 2
}
